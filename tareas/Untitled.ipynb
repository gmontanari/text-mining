{
 "cells": [
  {
   "cell_type": "code",
   "execution_count": 31,
   "metadata": {
    "collapsed": false
   },
   "outputs": [
    {
     "name": "stdout",
     "output_type": "stream",
     "text": [
      "[ 0.125   0.125   0.1875]\n"
     ]
    }
   ],
   "source": [
    "import numpy as np\n",
    "pi = np.array([0.25, 0.5, 0.25]) # pi = prior probs\n",
    "A = np.array([[0.25, 0.25, 0.50], # A = transition probs. / 2 states\n",
    "              [0, .25, .75],\n",
    "              [0.5, 0.5, 0]])\n",
    "B = np.array([\n",
    "              [0.5, 0.5], \n",
    "              [0.25, 0.75],\n",
    "              [0.75, 0.25]\n",
    "            ])\n",
    "\n",
    "delta =[0L for i in range(len(pi))]\n",
    "\n",
    "\n",
    "for i in range(len(pi)): #delta\n",
    "    delta[i]= pi[i] * B[i][0]\n",
    "    #print '%s, %s, %s '%(pi[i], B[i][0], pi[i] * B[i][0])\n",
    "\n",
    "delta = np.array(delta)\n",
    "print delta"
   ]
  },
  {
   "cell_type": "code",
   "execution_count": 9,
   "metadata": {
    "collapsed": false
   },
   "outputs": [
    {
     "data": {
      "text/plain": [
       "0.25"
      ]
     },
     "execution_count": 9,
     "metadata": {},
     "output_type": "execute_result"
    }
   ],
   "source": [
    "B[0][0]\n",
    "B[1][0]"
   ]
  },
  {
   "cell_type": "code",
   "execution_count": null,
   "metadata": {
    "collapsed": false
   },
   "outputs": [],
   "source": [
    "def viterbi(obs, states, start_p, trans_p, emit_p):\n",
    "    \n",
    "    # Run Viterbi for t > 0\n",
    "    for t in range(1, len(obs)):\n",
    "        V.append({})\n",
    "        newpath = {}\n",
    "\n",
    "        for y in states:\n",
    "            (prob, state) = max((V[t-1][y0] * trans_p[y0][y] * emit_p[y][obs[t]], y0) for y0 in states)\n",
    "            V[t][y] = prob\n",
    "            newpath[y] = path[state] + [y]\n",
    "\n",
    "        # Don't need to remember the old paths\n",
    "        path = newpath\n",
    "    \n",
    "    # Return the most likely sequence over the given time frame\n",
    "    n = len(obs) - 1\n",
    "    #print(*dptable(V), sep='')\n",
    "    (prob, state) = max((V[n][y], y) for y in states)\n",
    "    return (prob, path[state])\n",
    "\n",
    "# Don't study this; it just prints a table of the steps.\n",
    "def dptable(V):\n",
    "    yield \"    \"\n",
    "    yield \" \".join((\"%7d\" % i) for i in range(len(V)))\n",
    "    yield \"\\n\"\n",
    "    for y in V[0]:\n",
    "        yield \"%.5s: \" % y\n",
    "        yield \" \".join(\"%.7s\" % (\"%f\" % v[y]) for v in V)\n",
    "        yield \"\\n\""
   ]
  },
  {
   "cell_type": "code",
   "execution_count": 29,
   "metadata": {
    "collapsed": false
   },
   "outputs": [
    {
     "name": "stdout",
     "output_type": "stream",
     "text": [
      "obs1 is [ 1.  1.  1.  0.  1.  1.  0.  1.]\n",
      "obs1, best path is[ 2.  0.  0.  0.]\n",
      "obs2 is [ 1.  1.  1.  0.  1.  1.  0.  1.]\n",
      "obs2, best path is[ 2.  1.  1.  1.  1.  1.  1.  1.  1.]\n",
      "obs12 is [ 1.  1.  1.  0.  1.  1.  0.  1.  1.  1.  1.  1.  1.  1.  1.  1.]\n",
      "obs12, best path is[ 2.  1.  1.  1.  2.  1.  1.  2.  1.  1.  1.  1.  1.  1.  1.  1.  1.]\n"
     ]
    },
    {
     "name": "stderr",
     "output_type": "stream",
     "text": [
      "C:\\Anaconda\\lib\\site-packages\\ipykernel\\__main__.py:18: DeprecationWarning: using a non-integer number instead of an integer will result in an error in the future\n",
      "C:\\Anaconda\\lib\\site-packages\\ipykernel\\__main__.py:18: RuntimeWarning: divide by zero encountered in log\n"
     ]
    }
   ],
   "source": [
    "# import stuff here\n",
    "import numpy as np\n",
    "# classes/functions go here\n",
    "def viterbi_alg(A_mat, O_mat, observations):\n",
    "    # get number of states\n",
    "    num_obs = observations.size\n",
    "    num_states = A_mat.shape[0]\n",
    "    # initialize path costs going into each state, start with 0\n",
    "    log_probs = np.zeros(num_states)\n",
    "    # initialize arrays to store best paths, 1 row for each ending state\n",
    "    paths = np.zeros( (num_states, num_obs+1 ))\n",
    "    paths[:, 0] = np.arange(num_states)\n",
    "    # start looping\n",
    "    for obs_ind, obs_val in enumerate(observations):\n",
    "        # for each obs, need to check for best path into each state\n",
    "        for state_ind in xrange(num_states):\n",
    "            # given observation, check prob of each path\n",
    "            temp_probs = log_probs + \\\n",
    "                         np.log(O_mat[state_ind, obs_val]) + \\\n",
    "                         np.log(A_mat[:, state_ind])\n",
    "            # check for largest score\n",
    "            best_temp_ind = np.argmax(temp_probs)\n",
    "            # save the path with a higher prob and score\n",
    "            paths[state_ind,:] = paths[best_temp_ind,:]\n",
    "            paths[state_ind,(obs_ind+1)] = state_ind\n",
    "            log_probs[state_ind] = temp_probs[best_temp_ind]\n",
    "    # we now have a best stuff going into each path, find the best score\n",
    "    best_path_ind = np.argmax(log_probs)\n",
    "    # done, get out.\n",
    "    return (best_path_ind, paths, log_probs)\n",
    " \n",
    "# main script stuff goes here\n",
    "    # the transition matrix\n",
    "pi = np.array([0.25, 0.5, 0.25]) # pi = prior probs\n",
    "A_mat = np.array([[0.25, 0.25, 0.50], # A = transition probs. / 2 states\n",
    "              [0, .25, .75],\n",
    "              [0.5, 0.5, 0]])\n",
    "    # the observation matrix\n",
    "O_mat = np.array([[0.5, 0.5], \n",
    "              [0.25, 0.75],\n",
    "              [0.75, 0.25]])\n",
    "    # sample heads or tails, 0 is heads, 1 is tails\n",
    "num_obs = 8\n",
    "observations1 = np.random.randn( num_obs )\n",
    "observations1[observations1>0] = 1\n",
    "observations1[observations1<=0] = 0\n",
    "    # we have what we need, do viterbi\n",
    "best_path_ind, paths, log_probs = viterbi_alg(A_mat, O_mat, pi)\n",
    "print \"obs1 is \" + str(observations1)\n",
    "print \"obs1, best path is\" + str(paths[best_path_ind,:])\n",
    "\n",
    "    # change observations to reflect messed up ratio\n",
    "observations2 = np.random.random(num_obs)\n",
    "observations2[observations2>.85] = 0\n",
    "observations2[observations2<=.85] = 1\n",
    "    # majority of the time its tails, now what?\n",
    "best_path_ind, paths, log_probs = viterbi_alg(A_mat, O_mat, observations2)\n",
    "print \"obs2 is \" + str(observations1)\n",
    "print \"obs2, best path is\" + str(paths[best_path_ind,:])\n",
    "    #have it switch partway?\n",
    "best_path_ind, paths, log_probs = viterbi_alg(A_mat, \\\n",
    "                                          O_mat, \\\n",
    "                                          np.hstack( (observations1, observations2) ) )\n",
    "print \"obs12 is \" + str(np.hstack( (observations1, observations2) ) )\n",
    "print \"obs12, best path is\" + str(paths[best_path_ind,:])"
   ]
  },
  {
   "cell_type": "code",
   "execution_count": null,
   "metadata": {
    "collapsed": true
   },
   "outputs": [],
   "source": [
    "import numpy as np\n",
    "\n",
    "'''\n",
    "N: number of hidden states\n",
    "'''\n",
    "def __init__(self, initialProb, transProb, obsProb):\n",
    "    self.N = initialProb.shape[0]\n",
    "    self.initialProb = initialProb\n",
    "    self.transProb = transProb\n",
    "    self.obsProb = obsProb\n",
    "    assert self.initialProb.shape == (self.N, 1)\n",
    "    assert self.transProb.shape == (self.N, self.N)\n",
    "    assert self.obsProb.shape[0] == self.N\n",
    "\n",
    "def Obs(self, obs):\n",
    "    return self.obsProb[:, obs, None]\n",
    "\n",
    "def Decode(self, obs):\n",
    "    trellis = np.zeros((self.N, len(obs)))\n",
    "    backpt = np.ones((self.N, len(obs)), 'int32') * -1\n",
    "\n",
    "    # initialization\n",
    "    trellis[:, 0] = np.squeeze(self.initialProb * self.Obs(obs[0]))\n",
    "\n",
    "    for t in xrange(1, len(obs)):\n",
    "        trellis[:, t] = (trellis[:, t-1, None].dot(self.Obs(obs[t]).T) * self.transProb).max(0)\n",
    "        backpt[:, t] = (np.tile(trellis[:, t-1, None], [1, self.N]) * self.transProb).argmax(0)\n",
    "    # termination\n",
    "    tokens = [trellis[:, -1].argmax()]\n",
    "    for i in xrange(len(obs)-1, 0, -1):\n",
    "        tokens.append(backpt[tokens[-1], i])\n",
    "    return tokens[::-1]"
   ]
  }
 ],
 "metadata": {
  "kernelspec": {
   "display_name": "Python 2",
   "language": "python",
   "name": "python2"
  },
  "language_info": {
   "codemirror_mode": {
    "name": "ipython",
    "version": 2
   },
   "file_extension": ".py",
   "mimetype": "text/x-python",
   "name": "python",
   "nbconvert_exporter": "python",
   "pygments_lexer": "ipython2",
   "version": "2.7.11"
  }
 },
 "nbformat": 4,
 "nbformat_minor": 0
}

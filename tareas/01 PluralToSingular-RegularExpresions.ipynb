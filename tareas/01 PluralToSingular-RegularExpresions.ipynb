{
 "cells": [
  {
   "cell_type": "markdown",
   "metadata": {},
   "source": [
    "<img src=\"images\\logoitam.gif\">\n",
    "### Maestría en Ciencia de Datos\n",
    "* Métodos analíticos para texto | Tarea 01 | Enero de 2016 |\n",
    "* Alumna: Gabriela Flores Bracamontes |  Clave: 160124 |"
   ]
  },
  {
   "cell_type": "markdown",
   "metadata": {},
   "source": [
    "# Convertir plurales en singulares con expresiones regulares"
   ]
  },
  {
   "cell_type": "code",
   "execution_count": null,
   "metadata": {
    "collapsed": true
   },
   "outputs": [],
   "source": [
    "from __future__ import absolute_import, division, print_function, unicode_literals\n",
    "import sys\n",
    "import re\n",
    "import unicodedata\n",
    "\n",
    "\n",
    "reglas = ['([^aeiou][aeiou]|é)s$',              \n",
    "         '[áó]s$',        \n",
    "         '([aeiou](s|x))$',\n",
    "         '[^áéíóú][lrndzj](es)$',\n",
    "         '[^lrndzjsxaeiouáéíóú]s$',\n",
    "         '[^aeiouáéíóú]es$'\n",
    "        ]\n",
    "ruleapp = ['s','es']    \n",
    "acentos = re.compile(u'[\\xe1\\xe9\\xed\\xf3\\xfa]',re.UNICODE | re.IGNORECASE)\n",
    "final_llanas = re.compile(u'[nsaeiou]',re.UNICODE | re.IGNORECASE)\n",
    "\n",
    "def Plural(word):\n",
    "    return re.search('(es|s)',word)\n",
    "\n",
    "def AplicarRegla(word, regla):\n",
    "\n",
    "    if regla in [0,1,2]:\n",
    "        return word[0:len(word)-1]\n",
    "    elif regla in [4]:\n",
    "        if (silabas == 1):\n",
    "            return word[0:len(word)-1]\n",
    "        else:\n",
    "            return word[0:len(word)-2]            \n",
    "    else:        \n",
    "        singular = word[0:len(word)-2]\n",
    "        if singular[-1] == 'c':\n",
    "            singular = singular[0:len(singular)-1] + 'z'\n",
    "        return singular\n",
    "\n",
    "\n",
    "\n",
    "def VerificaRegla(word):\n",
    "    appliedrule ={}\n",
    "    for idx, rule in enumerate(reglas):\n",
    "        if not re.search(rule, word) is None:\n",
    "            appliedrule[idx]=re.search(rule, word)            \n",
    "    return appliedrule\n",
    "\n",
    "word=\"peces\"\n",
    "reglas = VerificaRegla(word)\n",
    "print (AplicarRegla(word,reglas.keys()[-1]))"
   ]
  }
 ],
 "metadata": {
  "kernelspec": {
   "display_name": "Python 2",
   "language": "python",
   "name": "python2"
  },
  "language_info": {
   "codemirror_mode": {
    "name": "ipython",
    "version": 2
   },
   "file_extension": ".py",
   "mimetype": "text/x-python",
   "name": "python",
   "nbconvert_exporter": "python",
   "pygments_lexer": "ipython2",
   "version": "2.7.11"
  }
 },
 "nbformat": 4,
 "nbformat_minor": 0
}

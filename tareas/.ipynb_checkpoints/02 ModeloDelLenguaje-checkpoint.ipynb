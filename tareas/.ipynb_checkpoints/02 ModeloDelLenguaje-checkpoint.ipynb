{
 "cells": [
  {
   "cell_type": "markdown",
   "metadata": {},
   "source": [
    "<img src=\"images\\logoitam.gif\">\n",
    "### Maestría en Ciencia de Datos\n",
    "* Métodos analíticos para texto | Tarea 02 | 28 de Enero de 2016 |\n",
    "* Alumna: Gabriela Flores Bracamontes |  Clave: 160124 |"
   ]
  },
  {
   "cell_type": "markdown",
   "metadata": {},
   "source": [
    "## Modelo del lenguaje **$\\mu=(A, B, \\Pi)$**"
   ]
  },
  {
   "cell_type": "markdown",
   "metadata": {},
   "source": [
    "## 1.- Exploración de datos: \n",
    "Una vez explorados los datos, se procedió a realizar la limpieza"
   ]
  },
  {
   "cell_type": "code",
   "execution_count": 60,
   "metadata": {
    "collapsed": false,
    "scrolled": false
   },
   "outputs": [],
   "source": [
    "import codecs\n",
    "import json\n",
    "import pandas as pd\n",
    "import matplotlib.pyplot as plt\n",
    "import numpy as np\n",
    "from collections import Counter\n",
    "from __future__ import division\n",
    "\n",
    "def is_json(myjson):\n",
    "    try:\n",
    "        json_object = json.loads(myjson)\n",
    "    except ValueError, e:\n",
    "        return False\n",
    "    return True\n",
    "\n",
    "corpus=\"\"\n",
    "#Limpiamos el archivo\n",
    "j=0\n",
    "with open('corpus_entrenamiento.txt',\"r\") as f:\n",
    "    for line in f: \n",
    "        j+=1\n",
    "        line = line.replace(\",}\", \"}\")\n",
    "        line = line.replace(\"\\\"\\\"document\\\":[\\\"\",\"fc\")\n",
    "        line = line.replace('\\\\\"\"','\\\\\\\\')\n",
    "        line = line.replace (\"\\\"token\\\":\\\"\\\"\\\\\"\"\\\"\\\"\",\"\\\"token\\\":\\\"\"\"\\\\\"\"\\\"\")\n",
    "        line=  line.replace(\"\\\"token\\\":fc\",\"\\\"token\\\":\\\"fc\\\"\")   \n",
    "        line = line.replace(\"}],\",\"}]\")\n",
    "        line=  line.replace('\\n','')\n",
    "        line=  line.replace('}]','}]}\\n')\n",
    "        line=  line.replace('\\\"document\\\":','{\\\"document\\\":')\n",
    "        corpus+= line\n",
    "\n",
    "corpus= corpus[0:len(corpus)-2]\n",
    "\n",
    "with open('corpus_clean.json', 'w') as f:\n",
    "    f.write(corpus)\n",
    "\n",
    "data = []\n",
    "with codecs.open('corpus_clean.json','r') as f:\n",
    "    for line in f:\n",
    "        data.append(json.loads(line))"
   ]
  },
  {
   "cell_type": "markdown",
   "metadata": {},
   "source": [
    "## 2.- Obtención de los tokens y tags utilizando diccionarios: "
   ]
  },
  {
   "cell_type": "code",
   "execution_count": 61,
   "metadata": {
    "collapsed": false
   },
   "outputs": [],
   "source": [
    "DictionaryTokens = {}\n",
    "DictionaryTags = {}\n",
    "\n",
    "for renglon in data:\n",
    "    for contenido in renglon['document']:\n",
    "        DictionaryTokens.setdefault(contenido['token'].lower(),[]) \n",
    "        DictionaryTokens[contenido['token'].lower()].append(contenido['tag'].lower())\n",
    "        DictionaryTags.setdefault(contenido['tag'].lower(),[]) \n",
    "        DictionaryTags[contenido['tag'].lower()].append(contenido['token'].lower())\n",
    "\n",
    "diccionariox = {}\n",
    "for k,v in DictionaryTokens.items():\n",
    "    if not diccionariox.has_key(k) :\n",
    "        diccionariox[k]= Counter(v)\n"
   ]
  },
  {
   "cell_type": "markdown",
   "metadata": {},
   "source": [
    "## 3.- Generación de la matriz B: "
   ]
  },
  {
   "cell_type": "code",
   "execution_count": 77,
   "metadata": {
    "collapsed": false
   },
   "outputs": [],
   "source": [
    "B= [[0L for j in range(len(DictionaryTags))]for i in range(len(DictionaryTokens))]\n",
    "DictionaryTokensSort= sorted(DictionaryTokens.keys())\n",
    "DictionaryTagsSort= sorted(DictionaryTags.keys())\n",
    "\n",
    "for k,v in diccionariox.items():\n",
    "    idxToken = DictionaryTokensSort.index(k) \n",
    "    for elemento in v.keys():\n",
    "        idxTag = DictionaryTagsSort.index(elemento)\n",
    "        B[idxToken][idxTag]=v[elemento]\n",
    "        #print elemento,v[elemento]\n",
    "B=np.asarray(B)\n",
    "B= [i/sum(i) for i in B]"
   ]
  },
  {
   "cell_type": "code",
   "execution_count": 78,
   "metadata": {
    "collapsed": false
   },
   "outputs": [
    {
     "name": "stdout",
     "output_type": "stream",
     "text": [
      "(2528L, 38L)\n"
     ]
    }
   ],
   "source": [
    "print np.shape(B)"
   ]
  },
  {
   "cell_type": "code",
   "execution_count": 76,
   "metadata": {
    "collapsed": false
   },
   "outputs": [
    {
     "name": "stdout",
     "output_type": "stream",
     "text": [
      "[ 0.  0.  0.  0.  0.  0.  0.  0.  1.  0.  0.  0.  0.  0.  0.  0.  0.  0.\n",
      "  0.  0.  0.  0.  0.  0.  0.  0.  0.  0.  0.  0.  0.  0.  0.  0.  0.  0.\n",
      "  0.  0.] 1.0\n"
     ]
    }
   ],
   "source": [
    "print B[0] , sum(B[0])"
   ]
  },
  {
   "cell_type": "code",
   "execution_count": 63,
   "metadata": {
    "collapsed": false
   },
   "outputs": [
    {
     "data": {
      "text/plain": [
       "array([ 0.   ,  0.   ,  0.   ,  0.   ,  0.   ,  0.   ,  0.   ,  0.   ,\n",
       "        0.   ,  0.   ,  0.   ,  0.   ,  0.   ,  0.   ,  0.   ,  0.   ,\n",
       "        0.   ,  0.   ,  0.   ,  0.   ,  0.   ,  0.   ,  0.   ,  0.625,\n",
       "        0.   ,  0.   ,  0.   ,  0.   ,  0.   ,  0.   ,  0.   ,  0.   ,\n",
       "        0.   ,  0.   ,  0.   ,  0.375,  0.   ,  0.   ])"
      ]
     },
     "execution_count": 63,
     "metadata": {},
     "output_type": "execute_result"
    }
   ],
   "source": [
    "B[DictionaryTokensSort.index('ananda')]"
   ]
  },
  {
   "cell_type": "markdown",
   "metadata": {},
   "source": [
    "## 4.- Generación de la matriz A: "
   ]
  },
  {
   "cell_type": "code",
   "execution_count": 67,
   "metadata": {
    "collapsed": false
   },
   "outputs": [],
   "source": [
    "A= [[0L for j in range(len(DictionaryTags))]for i in range(len(DictionaryTags))]\n",
    "PI =[]\n",
    "for renglon in data: \n",
    "    document=renglon['document']\n",
    "    De= document[0]['tag'].lower()\n",
    "    PI.append(De)\n",
    "    DeIdx = DictionaryTagsSort.index(De)\n",
    "    for pos in xrange(1,len(renglon['document'])):     \n",
    "        To = document[pos]['tag'].lower()\n",
    "        ToIdx = DictionaryTagsSort.index(To)\n",
    "        A[DeIdx][ToIdx]+=1\n",
    "        De = To\n",
    "        #print De, A\n",
    "A=np.asarray(A)\n",
    "A= [i/sum(i) for i in A]"
   ]
  },
  {
   "cell_type": "code",
   "execution_count": 73,
   "metadata": {
    "collapsed": false
   },
   "outputs": [
    {
     "name": "stdout",
     "output_type": "stream",
     "text": [
      "(38L, 38L)\n"
     ]
    }
   ],
   "source": [
    "print np.shape(A)"
   ]
  },
  {
   "cell_type": "code",
   "execution_count": 74,
   "metadata": {
    "collapsed": false
   },
   "outputs": [
    {
     "name": "stdout",
     "output_type": "stream",
     "text": [
      "[ 0.          0.          0.          0.          0.27272727  0.          0.\n",
      "  0.          0.          0.          0.          0.          0.          0.\n",
      "  0.          0.          0.09090909  0.          0.          0.          0.\n",
      "  0.          0.27272727  0.09090909  0.          0.          0.          0.\n",
      "  0.          0.          0.          0.          0.          0.27272727\n",
      "  0.          0.          0.          0.        ] 1.0\n"
     ]
    }
   ],
   "source": [
    "print A[0] , sum(A[0])"
   ]
  },
  {
   "cell_type": "markdown",
   "metadata": {},
   "source": [
    "## 5.- Generación del vector PI: "
   ]
  },
  {
   "cell_type": "code",
   "execution_count": 64,
   "metadata": {
    "collapsed": false
   },
   "outputs": [],
   "source": [
    "PI =[0L for i in range(len(DictionaryTags))]\n",
    "for renglon in data: \n",
    "    document=renglon['document']\n",
    "    De= document[0]['tag'].lower()\n",
    "    PI[DictionaryTagsSort.index(De)]+=1\n",
    "    \n",
    "PI=np.asarray(PI)\n",
    "PI = PI/sum(PI)"
   ]
  },
  {
   "cell_type": "code",
   "execution_count": 57,
   "metadata": {
    "collapsed": false
   },
   "outputs": [
    {
     "data": {
      "text/plain": [
       "array([ 0.00303951,  0.00303951,  0.03647416,  0.01215805,  0.13981763,\n",
       "        0.01823708,  0.03343465,  0.01823708,  0.        ,  0.00303951,\n",
       "        0.        ,  0.        ,  0.        ,  0.        ,  0.00607903,\n",
       "        0.        ,  0.00303951,  0.        ,  0.        ,  0.        ,\n",
       "        0.        ,  0.        ,  0.03343465,  0.29787234,  0.0212766 ,\n",
       "        0.00911854,  0.00607903,  0.01215805,  0.        ,  0.        ,\n",
       "        0.        ,  0.04559271,  0.00911854,  0.17021277,  0.00607903,\n",
       "        0.08510638,  0.02735562,  0.        ])"
      ]
     },
     "execution_count": 57,
     "metadata": {},
     "output_type": "execute_result"
    }
   ],
   "source": [
    "PI"
   ]
  },
  {
   "cell_type": "code",
   "execution_count": 72,
   "metadata": {
    "collapsed": false
   },
   "outputs": [
    {
     "name": "stdout",
     "output_type": "stream",
     "text": [
      "(329L,)\n"
     ]
    }
   ],
   "source": [
    "print np.shape(PI)"
   ]
  },
  {
   "cell_type": "code",
   "execution_count": 9,
   "metadata": {
    "collapsed": false
   },
   "outputs": [
    {
     "name": "stdout",
     "output_type": "stream",
     "text": [
      "[ 0.          0.          0.          0.          0.27272727  0.          0.\n",
      "  0.          0.          0.          0.          0.          0.          0.\n",
      "  0.          0.          0.09090909  0.          0.          0.          0.\n",
      "  0.          0.27272727  0.09090909  0.          0.          0.          0.\n",
      "  0.          0.          0.          0.          0.          0.27272727\n",
      "  0.          0.          0.          0.        ] 1.0\n"
     ]
    }
   ],
   "source": [
    "print A[0] , sum(A[0])"
   ]
  }
 ],
 "metadata": {
  "kernelspec": {
   "display_name": "Python 2",
   "language": "python",
   "name": "python2"
  },
  "language_info": {
   "codemirror_mode": {
    "name": "ipython",
    "version": 2
   },
   "file_extension": ".py",
   "mimetype": "text/x-python",
   "name": "python",
   "nbconvert_exporter": "python",
   "pygments_lexer": "ipython2",
   "version": "2.7.11"
  }
 },
 "nbformat": 4,
 "nbformat_minor": 0
}

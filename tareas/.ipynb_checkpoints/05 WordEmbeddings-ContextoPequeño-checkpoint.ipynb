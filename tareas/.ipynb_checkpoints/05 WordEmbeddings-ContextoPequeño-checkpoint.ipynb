{
 "cells": [
  {
   "cell_type": "markdown",
   "metadata": {},
   "source": [
    "<img src=\"images\\logoitam.gif\">\n",
    "### Maestría en Ciencia de Datos\n",
    "* Métodos analíticos para texto | Tarea 05 | 05 de abril 2016 |\n",
    "* Alumna: Gabriela Flores Bracamontes |  Clave: 160124 |"
   ]
  },
  {
   "cell_type": "markdown",
   "metadata": {},
   "source": [
    "# WORD EMBEDDINGS"
   ]
  },
  {
   "cell_type": "code",
   "execution_count": 23,
   "metadata": {
    "collapsed": false
   },
   "outputs": [],
   "source": [
    "import codecs\n",
    "import json, string, math\n",
    "import pandas as pd\n",
    "import matplotlib.pyplot as plt\n",
    "import seaborn as sb  \n",
    "import operator\n",
    "\n",
    "import numpy as np\n",
    "import re\n",
    "from collections import Counter\n",
    "from __future__ import division\n",
    "from nltk.stem.snowball import SnowballStemmer\n",
    "from nltk.corpus import stopwords\n",
    "from nltk.stem import WordNetLemmatizer\n",
    "from random import randint\n",
    "import datetime\n",
    "\n",
    "np.random.seed(50)"
   ]
  },
  {
   "cell_type": "code",
   "execution_count": 24,
   "metadata": {
    "collapsed": false
   },
   "outputs": [],
   "source": [
    "def remove_punctuation (text):\n",
    "    return text.translate(None, string.punctuation)\n",
    "\n",
    "def fix_encoding(s):\n",
    "    return s.decode('utf8', 'ignore')\n",
    "\n",
    "def text_to_words(text):\n",
    "    words_only = re.sub(\"[^a-zA-Z]\",\" \",text.split())\n",
    "    return words_only\n",
    "\n",
    "def words_to_word(words):\n",
    "    dictionary={}\n",
    "    words = words.split()\n",
    "    for i in range(len(words)):\n",
    "        #if words[i] not in stopwords.words('spanish'):\n",
    "        if not dictionary.has_key(words[i]):\n",
    "            dictionary[words[i]]=words[i]\n",
    "    return dictionary\n",
    "\n",
    "def create_matrix(m,n,aleatory):\n",
    "    maxdim = 0\n",
    "    if (m>n) or (m==n) :\n",
    "        maxdim = m\n",
    "    else:\n",
    "        maxdim = n\n",
    "    if aleatory==True:\n",
    "        matrix =[[randint(-maxdim, maxdim) for i in range(m)] for i in range(n)]\n",
    "    else:\n",
    "        matrix =[[0. for i in range(m)] for i in range(n)]\n",
    "    return matrix\n",
    "\n",
    "def error_function():\n",
    "#negative sampling    \n",
    "    return\n",
    "\n",
    "def distance_function():\n",
    "#tanh\n",
    "    return\n",
    "\n",
    "def order_dictionary(dictionary):\n",
    "    dictionarysorted =  sorted(dictionary)\n",
    "    return dictionarysorted\n",
    "    \n",
    "def open_file(pathfile):\n",
    "    with codecs.open(pathfile,'r') as f: # Abrimos el archivo\n",
    "        data = f.read()\n",
    "        f.close()\n",
    "    return data\n",
    "\n",
    "def make_graphic(Matrix, dictionary):\n",
    "    %matplotlib inline\n",
    "    sb.plt.plot(Matrix[:,0], Matrix[:,1], 'o')  \n",
    "    for word, x, y in zip(dictionary, Matrix[:,0], Matrix[:,1]):  \n",
    "        sb.plt.annotate(word, (x, y), size=12)\n",
    "    return sb.plt.show()\n",
    "\n"
   ]
  },
  {
   "cell_type": "markdown",
   "metadata": {},
   "source": [
    "## 1.- Obtención y limpieza del corpus"
   ]
  },
  {
   "cell_type": "code",
   "execution_count": 25,
   "metadata": {
    "collapsed": false
   },
   "outputs": [],
   "source": [
    "dWords={}\n",
    "lContextos =[]\n",
    "tCorpus = 0\n",
    "\n",
    "corpus =  remove_punctuation(open_file('corpus_WE.txt'))\n",
    "corpusfix = fix_encoding(corpus.lower())\n",
    "    \n",
    "dWords= words_to_word(corpusfix)\n",
    "lContextos =  corpusfix.splitlines()\n",
    "tCorpus= len(dWords.keys())"
   ]
  },
  {
   "cell_type": "code",
   "execution_count": 26,
   "metadata": {
    "collapsed": false
   },
   "outputs": [
    {
     "data": {
      "text/plain": [
       "3389"
      ]
     },
     "execution_count": 26,
     "metadata": {},
     "output_type": "execute_result"
    }
   ],
   "source": [
    "tCorpus"
   ]
  },
  {
   "cell_type": "markdown",
   "metadata": {},
   "source": [
    "## 2.- Creación de Matrices W y V\n",
    "* Las matrices se llenan de manera aleatoria.\n",
    "* Dimensión Tamaño del corpus,2"
   ]
  },
  {
   "cell_type": "code",
   "execution_count": 18,
   "metadata": {
    "collapsed": false
   },
   "outputs": [
    {
     "data": {
      "image/png": "[encoded data removed]",
      "text/plain": [
       "<matplotlib.figure.Figure at 0x208f3ef0>"
      ]
     },
     "metadata": {},
     "output_type": "display_data"
    }
   ],
   "source": [
    "W=  (np.random.random((tCorpus, 2)) - 0.5) / 2\n",
    "V = (np.random.random((2, tCorpus)) - 0.5) / tCorpus\n",
    "WI = W\n",
    "\n",
    "W=np.array(W)\n",
    "V=np.array(V)\n",
    "V = np.transpose(V)\n",
    "\n",
    "make_graphic(W,dWords)\n",
    "dWords = order_dictionary(dWords)"
   ]
  },
  {
   "cell_type": "markdown",
   "metadata": {
    "collapsed": false,
    "scrolled": true
   },
   "source": [
    "## 3.- Calculamos la Probabilidad de la palabra, utilizando:\n",
    "\n",
    "* Función de distancia-> **tanh < v,w >**\n",
    "* Función de error -> **Negative Sampling**\n",
    "* Composición de suma de vectores\n",
    "* Contexto Natural"
   ]
  },
  {
   "cell_type": "code",
   "execution_count": 19,
   "metadata": {
    "collapsed": false
   },
   "outputs": [],
   "source": [
    "h = [0.0,0.0]\n",
    "Z=0.0\n",
    "learning_factor = 0.1\n",
    "\n",
    "start_time = datetime.datetime.now()\n",
    "\n",
    "for i in range(50):\n",
    "    for c in lContextos: #Recorre el contexto\n",
    "        #Promedio de las palabras del contexto\n",
    "        h= (sum(W[dWords.index(wC)] for wC in c.split()))/len(c) \n",
    "        #Promedio del < > del corpus vs promedio del contexto\n",
    "        Z= (sum(np.exp(np.tanh((-np.dot(V[dWords.index(w)], h)))) for w in dWords)) \n",
    "        for w in dWords: #Recorre el diccionario    \n",
    "            Pw_c = np.exp(np.tanh((-np.dot(W[dWords.index(w)], h)))) / Z\n",
    "            if w in c:\n",
    "                V[dWords.index(w)]  = V[dWords.index(w)] - (learning_factor*(1 -Pw_c)*h)\n",
    "            else:\n",
    "                V[dWords.index(w)]  = V[dWords.index(w)] - (learning_factor*(0 -Pw_c)*h)      \n",
    "        h = [0.0,0.0] #Reinicio variables\n",
    "        Z=0.0\n",
    "\n",
    "    MeanV= (sum(V[dWords.index(w)] for w in dWords))/len(dWords) #Promedio del vector V\n",
    "    for c in lContextos: #Recorre el contexto\n",
    "        for w in dWords: #Recorre el diccionario\n",
    "            if w in c:\n",
    "                W[dWords.index(w)] = W[dWords.index(w)] - learning_factor*MeanV\n"
   ]
  },
  {
   "cell_type": "code",
   "execution_count": 20,
   "metadata": {
    "collapsed": false
   },
   "outputs": [
    {
     "name": "stdout",
     "output_type": "stream",
     "text": [
      "Took 0:00:02.213000s\n"
     ]
    },
    {
     "data": {
      "image/png": "[encoded data removed]",
      "text/plain": [
       "<matplotlib.figure.Figure at 0x20adf668>"
      ]
     },
     "metadata": {},
     "output_type": "display_data"
    },
    {
     "data": {
      "text/plain": [
       "[(u'the', (-326.72598434246549, 295.0224397363441)),\n",
       " (u'queen', (-217.77587457819428, 196.44995400473846)),\n",
       " (u'king', (-217.76048763163004, 196.77235871106751)),\n",
       " (u'dwarf', (-217.70184435770662, 196.38811314821484)),\n",
       " (u'hates', (-108.97183562835923, 98.21020075285648)),\n",
       " (u'loves', (-108.89547399007125, 98.397982795414947)),\n",
       " (u'poisons', (-108.71930424623341, 98.16704047233776))]"
      ]
     },
     "execution_count": 20,
     "metadata": {},
     "output_type": "execute_result"
    }
   ],
   "source": [
    "end_time = datetime.datetime.now()\n",
    "print('Took {}s'.format(end_time - start_time))\n",
    "make_graphic(W,dWords)\n",
    "\n",
    "Resultados={}\n",
    "for w, x, y in zip(dWords,W[:,0],W[:,1]):\n",
    "    if not Resultados.has_key(w):\n",
    "            Resultados[w]=x,y\n",
    "            \n",
    "resultado = sorted(Resultados.items(), key=operator.itemgetter(1))\n",
    "resultado"
   ]
  }
 ],
 "metadata": {
  "kernelspec": {
   "display_name": "Python 2",
   "language": "python",
   "name": "python2"
  },
  "language_info": {
   "codemirror_mode": {
    "name": "ipython",
    "version": 2
   },
   "file_extension": ".py",
   "mimetype": "text/x-python",
   "name": "python",
   "nbconvert_exporter": "python",
   "pygments_lexer": "ipython2",
   "version": "2.7.11"
  }
 },
 "nbformat": 4,
 "nbformat_minor": 0
}

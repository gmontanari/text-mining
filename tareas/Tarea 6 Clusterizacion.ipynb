{
 "cells": [
  {
   "cell_type": "markdown",
   "metadata": {},
   "source": [
    "# ITAM: \n",
    "## Maestría en Ciencia de Datos, \n",
    "### Métodos analíticos para texto | Tarea 06 | 05 de mayo 2016 |\n",
    "### Alumna: Gabriela Flores Bracamontes |  Clave: 160124 |"
   ]
  },
  {
   "cell_type": "markdown",
   "metadata": {},
   "source": [
    "##  Clasificación  y agrupamiento de textos "
   ]
  },
  {
   "cell_type": "markdown",
   "metadata": {},
   "source": [
    "### Pre requisitos\n",
    "* conda install -c anaconda gensim=0.12.4\n",
    "* conda install seaborn"
   ]
  },
  {
   "cell_type": "code",
   "execution_count": 1,
   "metadata": {
    "collapsed": false
   },
   "outputs": [],
   "source": [
    "import codecs\n",
    "import json, string, math\n",
    "import pandas as pd\n",
    "import matplotlib.pyplot as plt\n",
    "import seaborn as sb  \n",
    "import operator\n",
    "\n",
    "import numpy as np\n",
    "from numpy.linalg import *\n",
    "import re\n",
    "from collections import Counter\n",
    "from __future__ import division\n",
    "from nltk.stem.snowball import SnowballStemmer #import snowballstemmer\n",
    "from nltk.corpus import stopwords\n",
    "from nltk.stem import WordNetLemmatizer\n",
    "from string import punctuation\n",
    "from random import randint\n",
    "import datetime\n",
    "\n",
    "import getopt, sys, random, time, pprint\n",
    "import collections\n",
    "import gensim  as gns \n",
    "\n",
    "from scipy.stats.stats import pearsonr\n",
    "from scipy import linalg as la, mat, dot\n",
    "from sklearn.cluster import spectral_clustering\n",
    "from sklearn.metrics.pairwise import cosine_similarity, laplacian_kernel\n",
    "from sklearn.decomposition import TruncatedSVD \n",
    "from gensim.models import word2vec\n",
    "\n",
    "from scipy import cluster\n",
    "from matplotlib import pyplot\n",
    "from scipy.spatial import distance"
   ]
  },
  {
   "cell_type": "code",
   "execution_count": 2,
   "metadata": {
    "collapsed": false
   },
   "outputs": [],
   "source": [
    "def remove_punctuation (text):\n",
    "    text= text.replace('\\r\\n','').replace('!','').replace('¡','').replace('”','').replace('“','')\n",
    "    return text.translate(str.maketrans(\"\", \"\", punctuation))\n",
    "\n",
    "def fix_encoding(s):\n",
    "    return s.decode('utf8', 'ignore')\n",
    "\n",
    "def text_to_words(text):\n",
    "    words_only = re.sub(\"[^a-zA-Z]\",\" \",text.split())\n",
    "    return words_only\n",
    "\n",
    "def words_to_word(words):\n",
    "    dictionary={}\n",
    "    words = words.split()\n",
    "    for i in range(len(words)):\n",
    "        #if words[i] not in stopwords.words('spanish'):\n",
    "        if not dictionary.has_key(words[i]):\n",
    "            dictionary[words[i]]=words[i]\n",
    "    return dictionary\n",
    "\n",
    "def create_matrix(m,n,aleatory):\n",
    "    maxdim = 0\n",
    "    if (m>n) or (m==n) :\n",
    "        maxdim = m\n",
    "    else:\n",
    "        maxdim = n\n",
    "    if aleatory==True:\n",
    "        matrix =[[randint(-maxdim, maxdim) for i in range(m)] for i in range(n)]\n",
    "    else:\n",
    "        matrix =[[0. for i in range(m)] for i in range(n)]\n",
    "    return matrix\n",
    "\n",
    "def euclidean_function(matrixSxW):\n",
    "    A = np.array(create_matrix(len(matrixSxW),len(matrixSxW),False))\n",
    "    for y in range(1,len(matrixSxW)):\n",
    "        for x in range(1,len(matrixSxW)):\n",
    "            if x!=y:\n",
    "                A[y][x] = distance.euclidean(matrixSxW[y-1], matrixSxW[0])\n",
    "    return A\n",
    "\n",
    "def frobeniusdistance_function(matrixSxW):\n",
    "    A = np.array(create_matrix(len(matrixSxW),len(matrixSxW),False))\n",
    "    for x in range(A.shape[0]):\n",
    "        for y in range(A.shape[0]):\n",
    "            A[x,y] =np.sqrt(np.trace(np.dot(np.array(matrixSxW[x] - matrixSxW[y]).T, (matrixSxW[x] - matrixSxW[y]))))\n",
    "    return A\n",
    "\n",
    "def hausdorff_function(matrixSxW):\n",
    "    X_y=[]\n",
    "    for Y in matrixSxW:\n",
    "        for X in matrixSxW:\n",
    "            X_y.append(np.min([la.norm(Y.T-c) for c in X.T]))\n",
    "    daf=np.array(X_y).reshape((56,56))\n",
    "    A =np.zeros((daf.shape[0],daf.shape[0]))\n",
    "    for xindex in range(A.shape[0]):\n",
    "        for yindex in range(A.shape[0]):\n",
    "            A[xindex,yindex]= max(daf[xindex,yindex],daf[yindex,xindex])\n",
    "    return A\n",
    "\n",
    "def svd_cust(matriz,dimension):\n",
    "    U,s,V=linalg.svd(matriz,full_matrices=True)\n",
    "    FA=dot(U[:,:dimension],np.diag(s[:dimension]))\n",
    "    VT=np.transpose(V[:,:dimension])\n",
    "    newf=dot(FA,VT)\n",
    "    return pd.DataFrame(dot(FA,VT)[:,:dimension])\n",
    "   \n",
    "def open_file(pathfile):\n",
    "    with codecs.open(pathfile,'r', encoding=\"utf8\") as f: # Abrimos el archivo\n",
    "        #data = f.read()\n",
    "        data = f.readlines()\n",
    "        f.close()\n",
    "    return data\n",
    "\n",
    "def make_graphic(Matrix, dictionary):\n",
    "    %matplotlib inline\n",
    "    sb.plt.plot(Matrix[:,0], Matrix[:,1], 'o')  \n",
    "    for word, x, y in zip(dictionary, Matrix[:,0], Matrix[:,1]):  \n",
    "        sb.plt.annotate(word, (x, y), size=12)\n",
    "    return sb.plt.show()\n",
    "\n",
    "\n",
    "def elbow_method(Matrix):\n",
    "    %matplotlib inline\n",
    "    #plot variance for each value for 'k' between 1,10\n",
    "    initial = [cluster.vq.kmeans(Matrix,i) for i in range(1,56)]\n",
    "    x= [var for (cent,var) in initial]\n",
    "    pyplot.plot(x)\n",
    "    pyplot.show()\n",
    "    return np.array(x)"
   ]
  },
  {
   "cell_type": "markdown",
   "metadata": {},
   "source": [
    "## 1.- Obtención y limpieza del corpus"
   ]
  },
  {
   "cell_type": "code",
   "execution_count": 3,
   "metadata": {
    "collapsed": false
   },
   "outputs": [],
   "source": [
    "corpus =  open_file('Frases.txt')"
   ]
  },
  {
   "cell_type": "code",
   "execution_count": 4,
   "metadata": {
    "collapsed": false
   },
   "outputs": [],
   "source": [
    "phrases_clasif = [remove_punctuation(phrase.lower()).split('\\t') for phrase in corpus]"
   ]
  },
  {
   "cell_type": "code",
   "execution_count": 5,
   "metadata": {
    "collapsed": false
   },
   "outputs": [],
   "source": [
    "classes_only= {}\n",
    "phrases_only =[]\n",
    "\n",
    "for phrases in phrases_clasif:\n",
    "    phrases_only.append(phrases[0].split())\n",
    "    if not phrases[1] in classes_only:\n",
    "        classes_only[phrases[1]]=phrases[1]"
   ]
  },
  {
   "cell_type": "markdown",
   "metadata": {},
   "source": [
    "## 2.- Representación Vectorial utilizando Word2Vec"
   ]
  },
  {
   "cell_type": "code",
   "execution_count": 6,
   "metadata": {
    "collapsed": false
   },
   "outputs": [],
   "source": [
    "size = 100\n",
    "modelo =  gns.models.Word2Vec(phrases_only, size, window=4, min_count=1, workers=4)\n",
    "modelo.init_sims(replace=True)\n",
    "vocab = sorted(modelo.vocab.keys())\n",
    "\n",
    "SentenceXword = np.array([[int(word in phrase)*modelo[word]  for word in vocab] for phrase in phrases_only])\n"
   ]
  },
  {
   "cell_type": "markdown",
   "metadata": {},
   "source": [
    "## 3.-  Representación de las oraciones"
   ]
  },
  {
   "cell_type": "code",
   "execution_count": 7,
   "metadata": {
    "collapsed": false
   },
   "outputs": [],
   "source": [
    "Suma = np.array(create_matrix(size,len(SentenceXword), False))\n",
    "Multiplicacion = np.array(create_matrix(size,len(SentenceXword), False))\n",
    "Frobenius = np.array(create_matrix(size,len(SentenceXword), False))\n",
    "\n",
    "for y in range(len(SentenceXword)):\n",
    "    for x in range(len(SentenceXword[y])):\n",
    "        Suma[y]+= np.array(SentenceXword[y][x])\n",
    "        Multiplicacion[y]=1\n",
    "        if vocab[x] in phrases_only[y]:\n",
    "            Multiplicacion[y]*= np.array(SentenceXword[y][x])"
   ]
  },
  {
   "cell_type": "markdown",
   "metadata": {},
   "source": [
    "## Distancias utilizadas\n",
    "1. ** Frobenius **\n",
    "    $ ||X - Y||_{F}=\\sqrt{tr((X-Y)^t(X-Y))} $\n",
    "2. ** Hausdorff **\n",
    "    $ d_{H}(X,Y)= máx \\big\\{  máx_{j} \\big\\|x_{j} -y^*(x_{j}) \\big\\| , máx_{i} \\big\\|y_{i} -x^*(y_{i}) \\big\\| \\big\\} $\n",
    "3. ** Distancia Euclideana - Suma de vectores **\n",
    "4. ** Distancia Euclideana - Multiplicación de vectores **"
   ]
  },
  {
   "cell_type": "code",
   "execution_count": 8,
   "metadata": {
    "collapsed": true
   },
   "outputs": [],
   "source": [
    "MSuma = euclidean_function(Suma)\n",
    "MMultiplitacion= euclidean_function(Multiplicacion)\n",
    "Mfrobenius = frobeniusdistance_function(SentenceXword)\n",
    "Mahausdorff = hausdorff_function(SentenceXword)"
   ]
  },
  {
   "cell_type": "markdown",
   "metadata": {},
   "source": [
    "## Elbow Method y K-medias\n",
    "* Es una método que nos ayuda a determinar el # de clusters"
   ]
  },
  {
   "cell_type": "code",
   "execution_count": 9,
   "metadata": {
    "collapsed": false
   },
   "outputs": [
    {
     "data": {
      "image/png": "[encoded data removed]",
      "text/plain": [
       "<matplotlib.figure.Figure at 0x9653e33cf8>"
      ]
     },
     "metadata": {},
     "output_type": "display_data"
    },
    {
     "data": {
      "text/plain": [
       "array([ 5.06602218,  4.11463045,  3.64450098,  3.46870439,  3.36331927,\n",
       "        3.32402025,  3.25685407,  3.19167888,  3.11875597,  3.08990847,\n",
       "        3.06207445,  2.98806952,  2.9605762 ,  2.94127499,  2.8449198 ,\n",
       "        2.78512507,  2.7727241 ,  2.71297202,  2.62909975,  2.64524942,\n",
       "        2.5803491 ,  2.56818955,  2.47722875,  2.49417641,  2.45150663,\n",
       "        2.42940336,  2.28158384,  2.17416169,  2.14644725,  2.22022301,\n",
       "        2.03262257,  2.05687   ,  1.98439588,  2.07191957,  1.9443616 ,\n",
       "        2.00606919,  1.92755932,  1.82845896,  1.79965385,  1.82564329,\n",
       "        1.68174829,  1.71776179,  1.64043349,  1.51933627,  1.68566081,\n",
       "        1.59651122,  1.41583925,  1.51506103,  1.5950593 ,  1.39474602,\n",
       "        1.36532009,  1.4553654 ,  1.32335184,  1.36265409,  1.28422062])"
      ]
     },
     "execution_count": 9,
     "metadata": {},
     "output_type": "execute_result"
    }
   ],
   "source": [
    "elbow_method(MSuma)"
   ]
  },
  {
   "cell_type": "code",
   "execution_count": 10,
   "metadata": {
    "collapsed": false
   },
   "outputs": [
    {
     "data": {
      "image/png": "[encoded data removed]",
      "text/plain": [
       "<matplotlib.figure.Figure at 0x9653f003c8>"
      ]
     },
     "metadata": {},
     "output_type": "display_data"
    }
   ],
   "source": [
    "initial = [cluster.vq.kmeans(MSuma,i) for i in range(1,23)]\n",
    "cent, var = initial[21]\n",
    "#use vq() to get as assignment for each obs.\n",
    "aSuma,cdist = cluster.vq.vq(MSuma,cent)\n",
    "pyplot.scatter(MSuma[:,0], MSuma[:,1], c=aSuma)\n",
    "pyplot.show()"
   ]
  },
  {
   "cell_type": "code",
   "execution_count": 11,
   "metadata": {
    "collapsed": false
   },
   "outputs": [
    {
     "data": {
      "image/png": "[encoded data removed]",
      "text/plain": [
       "<matplotlib.figure.Figure at 0x9653e46128>"
      ]
     },
     "metadata": {},
     "output_type": "display_data"
    },
    {
     "data": {
      "text/plain": [
       "array([  2.60508270e+00,   2.60508270e+00,   2.60508270e+00,\n",
       "         2.60508270e+00,   3.40597970e-08,   3.40597970e-08,\n",
       "         3.40597970e-08,   3.40597970e-08,   3.40597970e-08,\n",
       "         3.40597970e-08,   3.40597970e-08,   3.40597970e-08,\n",
       "         3.40597970e-08,   3.40597970e-08,   3.40597970e-08,\n",
       "         3.40597970e-08,   3.40597970e-08,   3.40597970e-08,\n",
       "         3.40597970e-08,   3.40597970e-08,   3.40597970e-08,\n",
       "         3.40597970e-08,   3.40597970e-08,   3.40597970e-08,\n",
       "         3.40597970e-08,   3.40597970e-08,   3.40597970e-08,\n",
       "         3.40597970e-08,   3.40597970e-08,   3.40597970e-08,\n",
       "         3.40597970e-08,   3.40597970e-08,   3.40597970e-08,\n",
       "         3.40597970e-08,   3.40597970e-08,   3.40597970e-08,\n",
       "         3.40597970e-08,   3.40597970e-08,   3.40597970e-08,\n",
       "         3.40597970e-08,   3.40597970e-08,   3.40597970e-08,\n",
       "         3.40597970e-08,   3.40597970e-08,   3.40597970e-08,\n",
       "         3.40597970e-08,   3.40597970e-08,   3.40597970e-08,\n",
       "         3.40597970e-08,   3.40597970e-08,   3.40597970e-08,\n",
       "         3.40597970e-08,   3.40597970e-08,   3.40597970e-08,\n",
       "         3.40597970e-08])"
      ]
     },
     "execution_count": 11,
     "metadata": {},
     "output_type": "execute_result"
    }
   ],
   "source": [
    "elbow_method(MMultiplitacion)"
   ]
  },
  {
   "cell_type": "code",
   "execution_count": 12,
   "metadata": {
    "collapsed": false
   },
   "outputs": [
    {
     "data": {
      "image/png": "[encoded data removed]",
      "text/plain": [
       "<matplotlib.figure.Figure at 0x9656cee710>"
      ]
     },
     "metadata": {},
     "output_type": "display_data"
    }
   ],
   "source": [
    "initial = [cluster.vq.kmeans(MMultiplitacion,i) for i in range(1,23)]\n",
    "cent, var = initial[21]\n",
    "#use vq() to get as assignment for each obs.\n",
    "aMul,cdist = cluster.vq.vq(MMultiplitacion,cent)\n",
    "pyplot.scatter(MMultiplitacion[:,0], MMultiplitacion[:,1], c=aMul)\n",
    "pyplot.show()"
   ]
  },
  {
   "cell_type": "code",
   "execution_count": 13,
   "metadata": {
    "collapsed": false,
    "scrolled": true
   },
   "outputs": [
    {
     "data": {
      "image/png": "[encoded data removed]",
      "text/plain": [
       "<matplotlib.figure.Figure at 0x9656d3ab70>"
      ]
     },
     "metadata": {},
     "output_type": "display_data"
    },
    {
     "data": {
      "text/plain": [
       "array([ 4.14684059,  3.81659587,  3.7166715 ,  3.64164983,  3.56064592,\n",
       "        3.48200091,  3.42614697,  3.35338219,  3.29808683,  3.27756878,\n",
       "        3.2170162 ,  3.16281416,  3.0750767 ,  2.99007431,  2.93877251,\n",
       "        2.89525425,  2.82654609,  2.76094954,  2.75740859,  2.71419474,\n",
       "        2.65243582,  2.55156792,  2.56229037,  2.47781918,  2.37030223,\n",
       "        2.33022331,  2.27939122,  2.19965236,  2.1999486 ,  2.2074034 ,\n",
       "        2.11003162,  2.11247523,  2.1623812 ,  1.95534462,  2.02806471,\n",
       "        1.82134223,  1.97959555,  1.95912735,  1.97197522,  1.68592492,\n",
       "        1.6484276 ,  1.66588989,  1.68198233,  1.64752531,  1.58072501,\n",
       "        1.50767483,  1.45771494,  1.73302365,  1.5383878 ,  1.50519764,\n",
       "        1.49017418,  1.32341348,  1.27869593,  1.29984667,  1.21510965])"
      ]
     },
     "execution_count": 13,
     "metadata": {},
     "output_type": "execute_result"
    }
   ],
   "source": [
    "elbow_method(Mfrobenius)"
   ]
  },
  {
   "cell_type": "code",
   "execution_count": 14,
   "metadata": {
    "collapsed": false
   },
   "outputs": [
    {
     "data": {
      "image/png": "[encoded data removed]",
      "text/plain": [
       "<matplotlib.figure.Figure at 0x9656e06080>"
      ]
     },
     "metadata": {},
     "output_type": "display_data"
    }
   ],
   "source": [
    "initial = [cluster.vq.kmeans(Mfrobenius,i) for i in range(1,23)]\n",
    "cent, var = initial[21]\n",
    "#use vq() to get as assignment for each obs.\n",
    "afrob,cdist = cluster.vq.vq(Mfrobenius,cent)\n",
    "pyplot.scatter(Mfrobenius[:,0], Mfrobenius[:,1], c=afrob)\n",
    "pyplot.show()"
   ]
  },
  {
   "cell_type": "code",
   "execution_count": 15,
   "metadata": {
    "collapsed": false
   },
   "outputs": [
    {
     "data": {
      "image/png": "[encoded data removed]",
      "text/plain": [
       "<matplotlib.figure.Figure at 0x9656e8ce48>"
      ]
     },
     "metadata": {},
     "output_type": "display_data"
    },
    {
     "data": {
      "text/plain": [
       "array([ 1.83810952,  1.03780384,  0.76487713,  0.63723352,  0.52484424,\n",
       "        0.44986197,  0.36378993,  0.35271702,  0.29762628,  0.30206447,\n",
       "        0.2724038 ,  0.2385443 ,  0.20083411,  0.21702191,  0.19471966,\n",
       "        0.18741108,  0.17860569,  0.1504415 ,  0.1609772 ,  0.13883306,\n",
       "        0.1263114 ,  0.1197065 ,  0.11594985,  0.11812792,  0.11852555,\n",
       "        0.11987518,  0.11553255,  0.10484108,  0.09695276,  0.09755317,\n",
       "        0.0929794 ,  0.10196432,  0.0913133 ,  0.0930063 ,  0.08502494,\n",
       "        0.08101663,  0.07817742,  0.08353962,  0.07820299,  0.07476404,\n",
       "        0.0721216 ,  0.07483754,  0.06376669,  0.06595753,  0.06181044,\n",
       "        0.06410414,  0.05910426,  0.05959814,  0.06333663,  0.05690609,\n",
       "        0.06009715,  0.06272945,  0.05426688,  0.05702696,  0.05361295])"
      ]
     },
     "execution_count": 15,
     "metadata": {},
     "output_type": "execute_result"
    }
   ],
   "source": [
    "elbow_method(Mahausdorff)"
   ]
  },
  {
   "cell_type": "code",
   "execution_count": 16,
   "metadata": {
    "collapsed": false
   },
   "outputs": [
    {
     "data": {
      "image/png": "[encoded data removed]",
      "text/plain": [
       "<matplotlib.figure.Figure at 0x9656e2f6a0>"
      ]
     },
     "metadata": {},
     "output_type": "display_data"
    }
   ],
   "source": [
    "initial = [cluster.vq.kmeans(Mahausdorff,i) for i in range(1,23)]\n",
    "cent, var = initial[21]\n",
    "#use vq() to get as assignment for each obs.\n",
    "ahaus,cdist = cluster.vq.vq(Mahausdorff,cent)\n",
    "pyplot.scatter(Mahausdorff[:,0], Mahausdorff[:,1], c=ahaus)\n",
    "pyplot.show()"
   ]
  },
  {
   "cell_type": "markdown",
   "metadata": {
    "collapsed": false
   },
   "source": [
    "## Accuracy"
   ]
  },
  {
   "cell_type": "code",
   "execution_count": 18,
   "metadata": {
    "collapsed": false
   },
   "outputs": [],
   "source": [
    "comparativa = pd.DataFrame ({'Original':[phrases_clasif[i][1] for i in range(len(phrases_clasif))] , \\\n",
    "                             'Multiplicación': [aMul[i] for i in aMul], \\\n",
    "                             'Frobeniuse': [afrob[i] for i in afrob], 'Haussdorf': [ahaus[i] for i in ahaus],\\\n",
    "                             'Suma': [aSuma[i] for i in aSuma] \\\n",
    "                            })\n"
   ]
  },
  {
   "cell_type": "code",
   "execution_count": 19,
   "metadata": {
    "collapsed": false
   },
   "outputs": [
    {
     "data": {
      "text/html": [
       "<div>\n",
       "<table border=\"1\" class=\"dataframe\">\n",
       "  <thead>\n",
       "    <tr style=\"text-align: right;\">\n",
       "      <th></th>\n",
       "      <th>Frobeniuse</th>\n",
       "      <th>Haussdorf</th>\n",
       "      <th>Multiplicación</th>\n",
       "      <th>Original</th>\n",
       "      <th>Suma</th>\n",
       "    </tr>\n",
       "  </thead>\n",
       "  <tbody>\n",
       "    <tr>\n",
       "      <th>0</th>\n",
       "      <td>10</td>\n",
       "      <td>1</td>\n",
       "      <td>0</td>\n",
       "      <td>agua</td>\n",
       "      <td>14</td>\n",
       "    </tr>\n",
       "    <tr>\n",
       "      <th>1</th>\n",
       "      <td>10</td>\n",
       "      <td>13</td>\n",
       "      <td>0</td>\n",
       "      <td>agua</td>\n",
       "      <td>14</td>\n",
       "    </tr>\n",
       "    <tr>\n",
       "      <th>2</th>\n",
       "      <td>17</td>\n",
       "      <td>6</td>\n",
       "      <td>0</td>\n",
       "      <td>comida</td>\n",
       "      <td>15</td>\n",
       "    </tr>\n",
       "    <tr>\n",
       "      <th>3</th>\n",
       "      <td>10</td>\n",
       "      <td>0</td>\n",
       "      <td>0</td>\n",
       "      <td>animales</td>\n",
       "      <td>2</td>\n",
       "    </tr>\n",
       "    <tr>\n",
       "      <th>4</th>\n",
       "      <td>8</td>\n",
       "      <td>0</td>\n",
       "      <td>0</td>\n",
       "      <td>dios</td>\n",
       "      <td>4</td>\n",
       "    </tr>\n",
       "    <tr>\n",
       "      <th>5</th>\n",
       "      <td>13</td>\n",
       "      <td>1</td>\n",
       "      <td>0</td>\n",
       "      <td>relaciones sociales</td>\n",
       "      <td>2</td>\n",
       "    </tr>\n",
       "    <tr>\n",
       "      <th>6</th>\n",
       "      <td>1</td>\n",
       "      <td>0</td>\n",
       "      <td>0</td>\n",
       "      <td>partes del cuerpo</td>\n",
       "      <td>6</td>\n",
       "    </tr>\n",
       "    <tr>\n",
       "      <th>7</th>\n",
       "      <td>1</td>\n",
       "      <td>13</td>\n",
       "      <td>0</td>\n",
       "      <td>objetos</td>\n",
       "      <td>9</td>\n",
       "    </tr>\n",
       "    <tr>\n",
       "      <th>8</th>\n",
       "      <td>17</td>\n",
       "      <td>16</td>\n",
       "      <td>0</td>\n",
       "      <td>animales</td>\n",
       "      <td>4</td>\n",
       "    </tr>\n",
       "    <tr>\n",
       "      <th>9</th>\n",
       "      <td>17</td>\n",
       "      <td>6</td>\n",
       "      <td>0</td>\n",
       "      <td>objetos</td>\n",
       "      <td>9</td>\n",
       "    </tr>\n",
       "    <tr>\n",
       "      <th>10</th>\n",
       "      <td>13</td>\n",
       "      <td>14</td>\n",
       "      <td>0</td>\n",
       "      <td>ejercicio</td>\n",
       "      <td>9</td>\n",
       "    </tr>\n",
       "    <tr>\n",
       "      <th>11</th>\n",
       "      <td>2</td>\n",
       "      <td>13</td>\n",
       "      <td>0</td>\n",
       "      <td>animales</td>\n",
       "      <td>4</td>\n",
       "    </tr>\n",
       "    <tr>\n",
       "      <th>12</th>\n",
       "      <td>8</td>\n",
       "      <td>15</td>\n",
       "      <td>0</td>\n",
       "      <td>personas</td>\n",
       "      <td>4</td>\n",
       "    </tr>\n",
       "    <tr>\n",
       "      <th>13</th>\n",
       "      <td>13</td>\n",
       "      <td>15</td>\n",
       "      <td>0</td>\n",
       "      <td>relaciones sociales</td>\n",
       "      <td>4</td>\n",
       "    </tr>\n",
       "    <tr>\n",
       "      <th>14</th>\n",
       "      <td>10</td>\n",
       "      <td>1</td>\n",
       "      <td>0</td>\n",
       "      <td>agua</td>\n",
       "      <td>16</td>\n",
       "    </tr>\n",
       "    <tr>\n",
       "      <th>15</th>\n",
       "      <td>0</td>\n",
       "      <td>16</td>\n",
       "      <td>0</td>\n",
       "      <td>viajes</td>\n",
       "      <td>11</td>\n",
       "    </tr>\n",
       "    <tr>\n",
       "      <th>16</th>\n",
       "      <td>1</td>\n",
       "      <td>9</td>\n",
       "      <td>0</td>\n",
       "      <td>personas</td>\n",
       "      <td>12</td>\n",
       "    </tr>\n",
       "    <tr>\n",
       "      <th>17</th>\n",
       "      <td>13</td>\n",
       "      <td>9</td>\n",
       "      <td>0</td>\n",
       "      <td>relaciones sociales</td>\n",
       "      <td>4</td>\n",
       "    </tr>\n",
       "    <tr>\n",
       "      <th>18</th>\n",
       "      <td>8</td>\n",
       "      <td>16</td>\n",
       "      <td>0</td>\n",
       "      <td>clima</td>\n",
       "      <td>4</td>\n",
       "    </tr>\n",
       "    <tr>\n",
       "      <th>19</th>\n",
       "      <td>8</td>\n",
       "      <td>16</td>\n",
       "      <td>0</td>\n",
       "      <td>tiempo</td>\n",
       "      <td>4</td>\n",
       "    </tr>\n",
       "    <tr>\n",
       "      <th>20</th>\n",
       "      <td>4</td>\n",
       "      <td>18</td>\n",
       "      <td>0</td>\n",
       "      <td>clase</td>\n",
       "      <td>4</td>\n",
       "    </tr>\n",
       "    <tr>\n",
       "      <th>21</th>\n",
       "      <td>13</td>\n",
       "      <td>0</td>\n",
       "      <td>0</td>\n",
       "      <td>clima</td>\n",
       "      <td>15</td>\n",
       "    </tr>\n",
       "    <tr>\n",
       "      <th>22</th>\n",
       "      <td>3</td>\n",
       "      <td>15</td>\n",
       "      <td>0</td>\n",
       "      <td>comida</td>\n",
       "      <td>4</td>\n",
       "    </tr>\n",
       "    <tr>\n",
       "      <th>23</th>\n",
       "      <td>10</td>\n",
       "      <td>0</td>\n",
       "      <td>0</td>\n",
       "      <td>animales</td>\n",
       "      <td>16</td>\n",
       "    </tr>\n",
       "    <tr>\n",
       "      <th>24</th>\n",
       "      <td>17</td>\n",
       "      <td>13</td>\n",
       "      <td>0</td>\n",
       "      <td>comida</td>\n",
       "      <td>11</td>\n",
       "    </tr>\n",
       "    <tr>\n",
       "      <th>25</th>\n",
       "      <td>0</td>\n",
       "      <td>9</td>\n",
       "      <td>0</td>\n",
       "      <td>objetos</td>\n",
       "      <td>2</td>\n",
       "    </tr>\n",
       "    <tr>\n",
       "      <th>26</th>\n",
       "      <td>17</td>\n",
       "      <td>6</td>\n",
       "      <td>0</td>\n",
       "      <td>animales</td>\n",
       "      <td>5</td>\n",
       "    </tr>\n",
       "    <tr>\n",
       "      <th>27</th>\n",
       "      <td>3</td>\n",
       "      <td>0</td>\n",
       "      <td>0</td>\n",
       "      <td>relaciones sociales</td>\n",
       "      <td>15</td>\n",
       "    </tr>\n",
       "    <tr>\n",
       "      <th>28</th>\n",
       "      <td>10</td>\n",
       "      <td>9</td>\n",
       "      <td>0</td>\n",
       "      <td>causa y consecuencia</td>\n",
       "      <td>5</td>\n",
       "    </tr>\n",
       "    <tr>\n",
       "      <th>29</th>\n",
       "      <td>17</td>\n",
       "      <td>15</td>\n",
       "      <td>0</td>\n",
       "      <td>trabajo</td>\n",
       "      <td>4</td>\n",
       "    </tr>\n",
       "    <tr>\n",
       "      <th>30</th>\n",
       "      <td>4</td>\n",
       "      <td>14</td>\n",
       "      <td>0</td>\n",
       "      <td>objetos</td>\n",
       "      <td>4</td>\n",
       "    </tr>\n",
       "    <tr>\n",
       "      <th>31</th>\n",
       "      <td>4</td>\n",
       "      <td>18</td>\n",
       "      <td>0</td>\n",
       "      <td>no familiares</td>\n",
       "      <td>16</td>\n",
       "    </tr>\n",
       "    <tr>\n",
       "      <th>32</th>\n",
       "      <td>16</td>\n",
       "      <td>0</td>\n",
       "      <td>0</td>\n",
       "      <td>diversión y ocio</td>\n",
       "      <td>15</td>\n",
       "    </tr>\n",
       "    <tr>\n",
       "      <th>33</th>\n",
       "      <td>10</td>\n",
       "      <td>13</td>\n",
       "      <td>0</td>\n",
       "      <td>problemas y soluciones</td>\n",
       "      <td>6</td>\n",
       "    </tr>\n",
       "    <tr>\n",
       "      <th>34</th>\n",
       "      <td>13</td>\n",
       "      <td>14</td>\n",
       "      <td>0</td>\n",
       "      <td>personas</td>\n",
       "      <td>11</td>\n",
       "    </tr>\n",
       "    <tr>\n",
       "      <th>35</th>\n",
       "      <td>4</td>\n",
       "      <td>0</td>\n",
       "      <td>0</td>\n",
       "      <td>amor y amistad</td>\n",
       "      <td>16</td>\n",
       "    </tr>\n",
       "    <tr>\n",
       "      <th>36</th>\n",
       "      <td>4</td>\n",
       "      <td>11</td>\n",
       "      <td>0</td>\n",
       "      <td>amor y amistad</td>\n",
       "      <td>11</td>\n",
       "    </tr>\n",
       "    <tr>\n",
       "      <th>37</th>\n",
       "      <td>19</td>\n",
       "      <td>16</td>\n",
       "      <td>0</td>\n",
       "      <td>personas</td>\n",
       "      <td>5</td>\n",
       "    </tr>\n",
       "    <tr>\n",
       "      <th>38</th>\n",
       "      <td>2</td>\n",
       "      <td>13</td>\n",
       "      <td>0</td>\n",
       "      <td>animales</td>\n",
       "      <td>11</td>\n",
       "    </tr>\n",
       "    <tr>\n",
       "      <th>39</th>\n",
       "      <td>2</td>\n",
       "      <td>13</td>\n",
       "      <td>0</td>\n",
       "      <td>objetos</td>\n",
       "      <td>11</td>\n",
       "    </tr>\n",
       "    <tr>\n",
       "      <th>40</th>\n",
       "      <td>4</td>\n",
       "      <td>9</td>\n",
       "      <td>0</td>\n",
       "      <td>comida</td>\n",
       "      <td>4</td>\n",
       "    </tr>\n",
       "    <tr>\n",
       "      <th>41</th>\n",
       "      <td>4</td>\n",
       "      <td>0</td>\n",
       "      <td>0</td>\n",
       "      <td>animales</td>\n",
       "      <td>2</td>\n",
       "    </tr>\n",
       "    <tr>\n",
       "      <th>42</th>\n",
       "      <td>10</td>\n",
       "      <td>11</td>\n",
       "      <td>0</td>\n",
       "      <td>personas</td>\n",
       "      <td>12</td>\n",
       "    </tr>\n",
       "    <tr>\n",
       "      <th>43</th>\n",
       "      <td>10</td>\n",
       "      <td>9</td>\n",
       "      <td>0</td>\n",
       "      <td>personas</td>\n",
       "      <td>11</td>\n",
       "    </tr>\n",
       "    <tr>\n",
       "      <th>44</th>\n",
       "      <td>4</td>\n",
       "      <td>18</td>\n",
       "      <td>0</td>\n",
       "      <td>personas</td>\n",
       "      <td>2</td>\n",
       "    </tr>\n",
       "    <tr>\n",
       "      <th>45</th>\n",
       "      <td>2</td>\n",
       "      <td>16</td>\n",
       "      <td>0</td>\n",
       "      <td>causa y consecuencia</td>\n",
       "      <td>9</td>\n",
       "    </tr>\n",
       "    <tr>\n",
       "      <th>46</th>\n",
       "      <td>0</td>\n",
       "      <td>16</td>\n",
       "      <td>0</td>\n",
       "      <td>partes del cuerpo</td>\n",
       "      <td>6</td>\n",
       "    </tr>\n",
       "    <tr>\n",
       "      <th>47</th>\n",
       "      <td>1</td>\n",
       "      <td>15</td>\n",
       "      <td>0</td>\n",
       "      <td>animales</td>\n",
       "      <td>2</td>\n",
       "    </tr>\n",
       "    <tr>\n",
       "      <th>48</th>\n",
       "      <td>17</td>\n",
       "      <td>4</td>\n",
       "      <td>0</td>\n",
       "      <td>lectura y escritura</td>\n",
       "      <td>2</td>\n",
       "    </tr>\n",
       "    <tr>\n",
       "      <th>49</th>\n",
       "      <td>10</td>\n",
       "      <td>14</td>\n",
       "      <td>0</td>\n",
       "      <td>partes del cuerpo</td>\n",
       "      <td>4</td>\n",
       "    </tr>\n",
       "    <tr>\n",
       "      <th>50</th>\n",
       "      <td>17</td>\n",
       "      <td>6</td>\n",
       "      <td>0</td>\n",
       "      <td>naturaleza</td>\n",
       "      <td>11</td>\n",
       "    </tr>\n",
       "    <tr>\n",
       "      <th>51</th>\n",
       "      <td>13</td>\n",
       "      <td>11</td>\n",
       "      <td>0</td>\n",
       "      <td>tiempo</td>\n",
       "      <td>9</td>\n",
       "    </tr>\n",
       "    <tr>\n",
       "      <th>52</th>\n",
       "      <td>13</td>\n",
       "      <td>15</td>\n",
       "      <td>0</td>\n",
       "      <td>personas</td>\n",
       "      <td>12</td>\n",
       "    </tr>\n",
       "    <tr>\n",
       "      <th>53</th>\n",
       "      <td>1</td>\n",
       "      <td>14</td>\n",
       "      <td>0</td>\n",
       "      <td>comida</td>\n",
       "      <td>5</td>\n",
       "    </tr>\n",
       "    <tr>\n",
       "      <th>54</th>\n",
       "      <td>10</td>\n",
       "      <td>0</td>\n",
       "      <td>0</td>\n",
       "      <td>personas</td>\n",
       "      <td>2</td>\n",
       "    </tr>\n",
       "    <tr>\n",
       "      <th>55</th>\n",
       "      <td>0</td>\n",
       "      <td>8</td>\n",
       "      <td>0</td>\n",
       "      <td>tiempo</td>\n",
       "      <td>14</td>\n",
       "    </tr>\n",
       "  </tbody>\n",
       "</table>\n",
       "</div>"
      ],
      "text/plain": [
       "    Frobeniuse  Haussdorf  Multiplicación                Original  Suma\n",
       "0           10          1               0                    agua    14\n",
       "1           10         13               0                    agua    14\n",
       "2           17          6               0                  comida    15\n",
       "3           10          0               0                animales     2\n",
       "4            8          0               0                    dios     4\n",
       "5           13          1               0     relaciones sociales     2\n",
       "6            1          0               0       partes del cuerpo     6\n",
       "7            1         13               0                 objetos     9\n",
       "8           17         16               0                animales     4\n",
       "9           17          6               0                 objetos     9\n",
       "10          13         14               0               ejercicio     9\n",
       "11           2         13               0                animales     4\n",
       "12           8         15               0                personas     4\n",
       "13          13         15               0     relaciones sociales     4\n",
       "14          10          1               0                    agua    16\n",
       "15           0         16               0                  viajes    11\n",
       "16           1          9               0                personas    12\n",
       "17          13          9               0     relaciones sociales     4\n",
       "18           8         16               0                   clima     4\n",
       "19           8         16               0                  tiempo     4\n",
       "20           4         18               0                   clase     4\n",
       "21          13          0               0                   clima    15\n",
       "22           3         15               0                  comida     4\n",
       "23          10          0               0                animales    16\n",
       "24          17         13               0                  comida    11\n",
       "25           0          9               0                 objetos     2\n",
       "26          17          6               0                animales     5\n",
       "27           3          0               0     relaciones sociales    15\n",
       "28          10          9               0    causa y consecuencia     5\n",
       "29          17         15               0                 trabajo     4\n",
       "30           4         14               0                 objetos     4\n",
       "31           4         18               0           no familiares    16\n",
       "32          16          0               0        diversión y ocio    15\n",
       "33          10         13               0  problemas y soluciones     6\n",
       "34          13         14               0                personas    11\n",
       "35           4          0               0          amor y amistad    16\n",
       "36           4         11               0          amor y amistad    11\n",
       "37          19         16               0                personas     5\n",
       "38           2         13               0                animales    11\n",
       "39           2         13               0                 objetos    11\n",
       "40           4          9               0                  comida     4\n",
       "41           4          0               0                animales     2\n",
       "42          10         11               0                personas    12\n",
       "43          10          9               0                personas    11\n",
       "44           4         18               0                personas     2\n",
       "45           2         16               0    causa y consecuencia     9\n",
       "46           0         16               0       partes del cuerpo     6\n",
       "47           1         15               0                animales     2\n",
       "48          17          4               0     lectura y escritura     2\n",
       "49          10         14               0       partes del cuerpo     4\n",
       "50          17          6               0              naturaleza    11\n",
       "51          13         11               0                  tiempo     9\n",
       "52          13         15               0                personas    12\n",
       "53           1         14               0                  comida     5\n",
       "54          10          0               0                personas     2\n",
       "55           0          8               0                  tiempo    14"
      ]
     },
     "execution_count": 19,
     "metadata": {},
     "output_type": "execute_result"
    }
   ],
   "source": [
    "comparativa"
   ]
  },
  {
   "cell_type": "code",
   "execution_count": 20,
   "metadata": {
    "collapsed": false
   },
   "outputs": [],
   "source": [
    "accuracy_suma=sum([aSuma[i] for i in aSuma])/len(classes_only)\n",
    "accuracy_mult=sum([aMul[i] for i in aMul])/len(classes_only)\n",
    "accuracy_fro=sum([afrob[i] for i in afrob])/len(classes_only)\n",
    "accuracy_hau=sum([ahaus[i] for i in ahaus])/len(classes_only)"
   ]
  },
  {
   "cell_type": "code",
   "execution_count": 30,
   "metadata": {
    "collapsed": false
   },
   "outputs": [
    {
     "name": "stdout",
     "output_type": "stream",
     "text": [
      "||Suma: 21.1904761905 ||Multiplitación:  0.0 ||Frobenius 22.2857142857 || Hausdorf:  25.8571428571\n"
     ]
    }
   ],
   "source": [
    "print ('||Suma:',accuracy_suma, '||Multiplitación: ',accuracy_mult, '||Frobenius', accuracy_fro, '|| Hausdorf: ',accuracy_hau)\n"
   ]
  }
 ],
 "metadata": {
  "kernelspec": {
   "display_name": "Python 3",
   "language": "python",
   "name": "python3"
  },
  "language_info": {
   "codemirror_mode": {
    "name": "ipython",
    "version": 3
   },
   "file_extension": ".py",
   "mimetype": "text/x-python",
   "name": "python",
   "nbconvert_exporter": "python",
   "pygments_lexer": "ipython3",
   "version": "3.5.1"
  }
 },
 "nbformat": 4,
 "nbformat_minor": 0
}
